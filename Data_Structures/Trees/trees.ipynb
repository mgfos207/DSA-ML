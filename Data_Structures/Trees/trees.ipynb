{
 "cells": [
  {
   "cell_type": "code",
   "execution_count": 1,
   "metadata": {},
   "outputs": [],
   "source": [
    "#!python3 -m pip install graphviz --upgrade"
   ]
  },
  {
   "cell_type": "code",
   "execution_count": 3,
   "metadata": {},
   "outputs": [],
   "source": [
    "import graphviz"
   ]
  },
  {
   "cell_type": "code",
   "execution_count": 4,
   "metadata": {},
   "outputs": [],
   "source": [
    "from tree_data_structure import BinarySearchTree"
   ]
  },
  {
   "cell_type": "code",
   "execution_count": 21,
   "metadata": {},
   "outputs": [],
   "source": [
    "dot = None"
   ]
  },
  {
   "cell_type": "code",
   "execution_count": 27,
   "metadata": {},
   "outputs": [],
   "source": [
    "def visualize_binary_tree(root):\n",
    "    dot = graphviz.Digraph()\n",
    "    dot.node(str(root.val))\n",
    "\n",
    "    def add_nodes_edges(node):\n",
    "        if node.left:\n",
    "            dot.node(str(node.left.val))\n",
    "            dot.edge(str(node.val), str(node.left.val))\n",
    "            add_nodes_edges(node.left)\n",
    "        if node.right:\n",
    "            dot.node(str(node.right.val))\n",
    "            dot.edge(str(node.val), str(node.right.val))\n",
    "            add_nodes_edges(node.right)\n",
    "\n",
    "    add_nodes_edges(root)\n",
    "    return dot\n",
    "    # dot.render('binary_tree', view=True, format='png')"
   ]
  },
  {
   "cell_type": "code",
   "execution_count": 28,
   "metadata": {},
   "outputs": [],
   "source": [
    "root = BinarySearchTree(5)\n",
    "keys = [3, 7, 2, 4, 6, 8]\n",
    "for key in keys:\n",
    "    root.insert_node(key)"
   ]
  },
  {
   "cell_type": "code",
   "execution_count": 29,
   "metadata": {},
   "outputs": [],
   "source": [
    "tree_vis = visualize_binary_tree(root)"
   ]
  },
  {
   "cell_type": "code",
   "execution_count": 19,
   "metadata": {},
   "outputs": [],
   "source": [
    "#traversal techniques (pre-order, in-order, post-order)\n",
    "def traverse_tree(root, traversal='inorder'):\n",
    "    traverse_list = list()\n",
    "\n",
    "    def traverse(node, order):\n",
    "        if not node:\n",
    "            return\n",
    "        if order == 'preorder':\n",
    "            traverse_list.append(node.val)\n",
    "            traverse(node.left, order)\n",
    "            traverse(node.right, order)\n",
    "        elif order == 'inorder':\n",
    "            traverse(node.left, order)\n",
    "            traverse_list.append(node.val)\n",
    "            traverse(node.right, order)\n",
    "        else: #post order\n",
    "            traverse(node.left, order)\n",
    "            traverse(node.right, order)\n",
    "            traverse_list.append(node.val)\n",
    "    \n",
    "    traverse(root, traversal)\n",
    "    return traverse_list"
   ]
  },
  {
   "cell_type": "code",
   "execution_count": 20,
   "metadata": {},
   "outputs": [
    {
     "name": "stdout",
     "output_type": "stream",
     "text": [
      "Pre-order binary tree traversal\n",
      "[5, 3, 2, 4, 7, 6, 8]\n",
      "==================================\n",
      "In-order binary tree traversal\n",
      "[2, 3, 4, 5, 6, 7, 8]\n",
      "==================================\n",
      "Post-order binary tree traversal\n",
      "[2, 4, 3, 6, 8, 7, 5]\n",
      "==================================\n"
     ]
    }
   ],
   "source": [
    "print(\"Pre-order binary tree traversal\")\n",
    "print(traverse_tree(root, 'preorder'))\n",
    "print(\"==================================\")\n",
    "print(\"In-order binary tree traversal\")\n",
    "print(traverse_tree(root, 'inorder'))\n",
    "print(\"==================================\")\n",
    "print(\"Post-order binary tree traversal\")\n",
    "print(traverse_tree(root, 'postorder'))\n",
    "print(\"==================================\")"
   ]
  },
  {
   "cell_type": "code",
   "execution_count": null,
   "metadata": {},
   "outputs": [],
   "source": []
  }
 ],
 "metadata": {
  "interpreter": {
   "hash": "31f2aee4e71d21fbe5cf8b01ff0e069b9275f58929596ceb00d14d90e3e16cd6"
  },
  "kernelspec": {
   "display_name": "Python 3.8.9 64-bit",
   "language": "python",
   "name": "python3"
  },
  "language_info": {
   "codemirror_mode": {
    "name": "ipython",
    "version": 3
   },
   "file_extension": ".py",
   "mimetype": "text/x-python",
   "name": "python",
   "nbconvert_exporter": "python",
   "pygments_lexer": "ipython3",
   "version": "3.10.12"
  },
  "orig_nbformat": 4
 },
 "nbformat": 4,
 "nbformat_minor": 2
}
