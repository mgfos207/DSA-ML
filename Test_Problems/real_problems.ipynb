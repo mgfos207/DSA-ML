{
 "cells": [
  {
   "attachments": {},
   "cell_type": "markdown",
   "metadata": {},
   "source": [
    "# Problems in the Real World\n",
    "\n",
    "The objective of this notebook is to take examples of real problems and use the same approach and methodology as a Leetcode problem"
   ]
  },
  {
   "cell_type": "code",
   "execution_count": 1,
   "metadata": {},
   "outputs": [],
   "source": [
    "import numpy as np"
   ]
  },
  {
   "attachments": {},
   "cell_type": "markdown",
   "metadata": {},
   "source": [
    "### Problem:\n",
    "\n",
    "You are given a task of cleaning emails to do matches against your data on. The emails that are provided can have the following manipulations done to them:\n",
    "\n",
    "* Throwaway domains (i.e. abuseemail.com, notreal.com)\n",
    "* Special characters (i.e. '+', '-', '.') not including the domain name\n",
    "\n",
    "What we want to do in addition to cleaning the email is to keep track of the the different manipulations that were done to clean the email.\n",
    "\n",
    "Examples:\n",
    "\n",
    "1. micah.forster@gmail.com --> micahforster@gmail.com\n",
    "2. micahforster+extra@gmail.com --> micahforster@gmail.com\n",
    "3. micah-forster-man@gmail.com --> micahforsterman@gmail.com\n",
    "\n",
    "Given this problem think about the different approaches that you can take before solving and try to think of the solution in terms of space and time complexity."
   ]
  },
  {
   "cell_type": "code",
   "execution_count": 7,
   "metadata": {},
   "outputs": [],
   "source": [
    "from collections import defaultdict\n",
    "import functools as ft"
   ]
  },
  {
   "cell_type": "code",
   "execution_count": 6,
   "metadata": {},
   "outputs": [
    {
     "data": {
      "text/plain": [
       "defaultdict(tuple,\n",
       "            {'micah-forster-man@gmail.com': ('micahforsterman@gmail.com',\n",
       "              ['Hyphen manipulation']),\n",
       "             'micahforster+extra@gmail.com ': ('micahforster@gmail.com ',\n",
       "              ['Plus sign manipulation']),\n",
       "             'micah.forster@gmail.com': ('micahforster@gmail.com',\n",
       "              ['Dot manipulation']),\n",
       "             'micah.forster+extra@gmail.com': ('micahforster@gmail.com',\n",
       "              ['Dot manipulation', 'Plus sign manipulation'])})"
      ]
     },
     "execution_count": 6,
     "metadata": {},
     "output_type": "execute_result"
    }
   ],
   "source": [
    "manipulated_emails = [\"micah-forster-man@gmail.com\", \"micahforster+extra@gmail.com \", \"micah.forster@gmail.com\", \"micah.forster+extra@gmail.com\"]\n",
    "\"\"\"\n",
    "remove . sign\n",
    "  validate str change\n",
    "  if change:\n",
    "    add manip to clean_email_dict\n",
    "remove \"-\" sign:\n",
    "  validate str change\n",
    "  '''\n",
    "remove \"+\":\n",
    "  take substring of text up until first plus\n",
    "  validate str change\n",
    "    '''\n",
    "  \n",
    "\"\"\"\n",
    "def add_email_manipulations(email):\n",
    "    email_parts = email.split(\"@\")\n",
    "    domain = email_parts.pop()\n",
    "    email_name = \"\".join(email_parts)\n",
    "    \n",
    "    change_list = list()\n",
    "    #check for '.' character\n",
    "    temp_name = email_name.replace(\".\", \"\")\n",
    "    if temp_name != email_name:\n",
    "        change_list.append(\"Dot manipulation\")\n",
    "        email_name = temp_name\n",
    "    \n",
    "    #check for '-' character\n",
    "    temp_name = email_name.replace(\"-\", \"\")\n",
    "    if temp_name != email_name:\n",
    "        change_list.append(\"Hyphen manipulation\")\n",
    "        email_name = temp_name\n",
    "    \n",
    "    #check for '+' character\n",
    "    plus_line_ind = email_name.find(\"+\")\n",
    "    if plus_line_ind != -1:\n",
    "        change_list.append(\"Plus sign manipulation\")\n",
    "        email_name = email_name[0:plus_line_ind]\n",
    "    \n",
    "    final_email = \"@\".join([email_name, domain])\n",
    "    return (final_email, change_list)\n",
    "\n",
    "email_manip_dict = defaultdict(tuple)\n",
    "\n",
    "for dirty_email in manipulated_emails:\n",
    "    email_manip_dict[dirty_email] = add_email_manipulations(dirty_email)\n",
    "\n",
    "email_manip_dict"
   ]
  },
  {
   "cell_type": "code",
   "execution_count": null,
   "metadata": {},
   "outputs": [],
   "source": []
  }
 ],
 "metadata": {
  "kernelspec": {
   "display_name": "Python 3",
   "language": "python",
   "name": "python3"
  },
  "language_info": {
   "codemirror_mode": {
    "name": "ipython",
    "version": 3
   },
   "file_extension": ".py",
   "mimetype": "text/x-python",
   "name": "python",
   "nbconvert_exporter": "python",
   "pygments_lexer": "ipython3",
   "version": "3.10.12"
  },
  "orig_nbformat": 4
 },
 "nbformat": 4,
 "nbformat_minor": 2
}
