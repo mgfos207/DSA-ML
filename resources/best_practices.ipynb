{
 "cells": [
  {
   "attachments": {},
   "cell_type": "markdown",
   "metadata": {},
   "source": [
    "# Coding Resources\n",
    "\n",
    "The objective of this notebook is provide users with a comprehensive guide for coding resources to help solidfy their understanding of concepts in Algorithms and Data Structures."
   ]
  },
  {
   "attachments": {},
   "cell_type": "markdown",
   "metadata": {},
   "source": [
    "### Writing Pseudocode\n",
    "\n",
    "Pseudocode is an important part of development. In fact you can say that this part is critical for the developer prior to actually writing code. Why is that? Simple if you write pseudo-code it allows your the following benefits:\n",
    "\n",
    "* Enables the developer to think through the problem and break in up into modular steps\n",
    "* It enables those who are not technically savvy to understand your logic rather than reading code that they can't understand\n",
    "\n",
    "The next important part is understanding how to write pseudocode. Writing pseudocode can be daunting task if you don't know how to do it. However, if you keep these steps in mind it should guide you on your journey to solving whatever problem you may encounter:\n",
    "\n",
    "1. Understand the problem\n",
    "2. Break down the problem into smaller steps\n",
    "3. Write out the pseudocode\n",
    "4. Test or verify the pseudocode\n",
    "5. Translate the pseudocode into working code"
   ]
  },
  {
   "attachments": {},
   "cell_type": "markdown",
   "metadata": {},
   "source": []
  }
 ],
 "metadata": {
  "language_info": {
   "name": "python"
  },
  "orig_nbformat": 4
 },
 "nbformat": 4,
 "nbformat_minor": 2
}
